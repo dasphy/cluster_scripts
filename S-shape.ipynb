{
 "cells": [
  {
   "cell_type": "code",
   "execution_count": 25,
   "id": "87b0c40a",
   "metadata": {},
   "outputs": [],
   "source": [
    "# define width of gaussian (in units of cell size)\n",
    "width=0.1"
   ]
  },
  {
   "cell_type": "code",
   "execution_count": 26,
   "id": "915b6402",
   "metadata": {},
   "outputs": [],
   "source": [
    "# define a gaussian model\n",
    "from matplotlib import pyplot as plt\n",
    "import numpy as np\n",
    "from math import sqrt, pi\n",
    "\n",
    "def gaussian(x,mu=0,sigma=1):\n",
    "    return 1./(sqrt(2*pi)*sigma) * np.exp( -((x-mu)/sigma)**2/2. )"
   ]
  },
  {
   "cell_type": "code",
   "execution_count": 27,
   "id": "7b0a3b79",
   "metadata": {},
   "outputs": [
    {
     "data": {
      "image/png": "[encoded data removed]",
      "text/plain": [
       "<Figure size 432x288 with 1 Axes>"
      ]
     },
     "metadata": {
      "needs_background": "light"
     },
     "output_type": "display_data"
    }
   ],
   "source": [
    "# plot the model and the cell grid\n",
    "x = np.linspace(-3.5, 3.5, 100)\n",
    "plt.plot(x, gaussian(x,0,width))\n",
    "\n",
    "boundaries = [ -3.5+i for i in range(0,8) ]\n",
    "for b in boundaries:\n",
    "    plt.axvline(x=b, color='r')\n",
    "\n",
    "plt.show()"
   ]
  },
  {
   "cell_type": "code",
   "execution_count": 28,
   "id": "c4c24da2",
   "metadata": {},
   "outputs": [],
   "source": [
    "# calculate cluster barycenter from weighted mean of cell centers\n",
    "# weights proportional to energy integrated in each cell\n",
    "from scipy.integrate import trapz\n",
    "\n",
    "def clusterBary(rTrue=0,sigma=0.5):\n",
    "    cells = [-3,-2,-1.,0.,1.,2.,3]\n",
    "    etot = 0\n",
    "    xave = 0\n",
    "    norm = 0\n",
    "    for c in cells:\n",
    "        xi = np.linspace(c-0.5, c+0.5, 100)\n",
    "        ci = gaussian(xi, rTrue, sigma)\n",
    "        ei = trapz(ci, xi)\n",
    "        etot += ei \n",
    "        xave += c * ei\n",
    "    xave /= etot\n",
    "    return xave"
   ]
  },
  {
   "cell_type": "code",
   "execution_count": 29,
   "id": "643647b3",
   "metadata": {},
   "outputs": [
    {
     "data": {
      "text/plain": [
       "<matplotlib.collections.PathCollection at 0x11000e880>"
      ]
     },
     "execution_count": 29,
     "metadata": {},
     "output_type": "execute_result"
    },
    {
     "data": {
      "image/png": "[encoded data removed]",
      "text/plain": [
       "<Figure size 432x288 with 1 Axes>"
      ]
     },
     "metadata": {
      "needs_background": "light"
     },
     "output_type": "display_data"
    }
   ],
   "source": [
    "# use the previous functions to calculate and plot the s-curve\n",
    "# ri is the position of the particle\n",
    "# ci is the cluster barycenter\n",
    "ri = np.linspace(-0.5, 0.5, 100)\n",
    "ci = np.array([clusterBary(r,width) for r in ri])\n",
    "\n",
    "plt.scatter(ri,ci-ri,marker=\".\")"
   ]
  },
  {
   "cell_type": "code",
   "execution_count": null,
   "id": "274cb61c",
   "metadata": {},
   "outputs": [],
   "source": []
  }
 ],
 "metadata": {
  "kernelspec": {
   "display_name": "Python 3 (ipykernel)",
   "language": "python",
   "name": "python3"
  },
  "language_info": {
   "codemirror_mode": {
    "name": "ipython",
    "version": 3
   },
   "file_extension": ".py",
   "mimetype": "text/x-python",
   "name": "python",
   "nbconvert_exporter": "python",
   "pygments_lexer": "ipython3",
   "version": "3.9.13"
  }
 },
 "nbformat": 4,
 "nbformat_minor": 5
}
